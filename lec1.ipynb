{
  "nbformat": 4,
  "nbformat_minor": 0,
  "metadata": {
    "colab": {
      "provenance": [],
      "authorship_tag": "ABX9TyNoxlWfUd8hxO/hK9k6K44E",
      "include_colab_link": true
    },
    "kernelspec": {
      "name": "python3",
      "display_name": "Python 3"
    },
    "language_info": {
      "name": "python"
    }
  },
  "cells": [
    {
      "cell_type": "markdown",
      "metadata": {
        "id": "view-in-github",
        "colab_type": "text"
      },
      "source": [
        "<a href=\"https://colab.research.google.com/github/bharatchudasama/CSA_Practical_Du/blob/main/lec1.ipynb\" target=\"_parent\"><img src=\"https://colab.research.google.com/assets/colab-badge.svg\" alt=\"Open In Colab\"/></a>"
      ]
    },
    {
      "cell_type": "markdown",
      "source": [
        "# Vectors"
      ],
      "metadata": {
        "id": "y08XRK5xdkry"
      }
    },
    {
      "cell_type": "code",
      "execution_count": 1,
      "metadata": {
        "id": "zqkoZ7sudPAw"
      },
      "outputs": [],
      "source": [
        "import numpy as np\n",
        "v= np.array([1,-1,2])\n",
        "w= np.array([2,-2,3])"
      ]
    },
    {
      "cell_type": "code",
      "source": [
        "#addition\n",
        "print(v+w)"
      ],
      "metadata": {
        "colab": {
          "base_uri": "https://localhost:8080/"
        },
        "id": "Hofm6VPJdyxE",
        "outputId": "a5cccf94-e982-41c3-91e1-c7b0e8255149"
      },
      "execution_count": 2,
      "outputs": [
        {
          "output_type": "stream",
          "name": "stdout",
          "text": [
            "[ 3 -3  5]\n"
          ]
        }
      ]
    },
    {
      "cell_type": "code",
      "source": [
        "#scalar multiplication\n",
        "print(3*v)"
      ],
      "metadata": {
        "colab": {
          "base_uri": "https://localhost:8080/"
        },
        "id": "X6TCCYosd5of",
        "outputId": "4390083b-9ea1-4866-dc48-05e70b54253e"
      },
      "execution_count": 3,
      "outputs": [
        {
          "output_type": "stream",
          "name": "stdout",
          "text": [
            "[ 3 -3  6]\n"
          ]
        }
      ]
    },
    {
      "cell_type": "code",
      "source": [
        "#getting lenght (mod of vector )\n",
        "# here linalg stands for linear algerba and norm of finding lenght\n",
        "np.linalg.norm(v)"
      ],
      "metadata": {
        "colab": {
          "base_uri": "https://localhost:8080/"
        },
        "id": "LjRuxPQUd-TA",
        "outputId": "d8b9d6c4-c7d5-4e60-801a-2270121c29c6"
      },
      "execution_count": 4,
      "outputs": [
        {
          "output_type": "execute_result",
          "data": {
            "text/plain": [
              "2.449489742783178"
            ]
          },
          "metadata": {},
          "execution_count": 4
        }
      ]
    },
    {
      "cell_type": "code",
      "source": [
        "#getting dot product of two vectors\n",
        "np.dot(v,w)"
      ],
      "metadata": {
        "colab": {
          "base_uri": "https://localhost:8080/"
        },
        "id": "wXdj8BTreRtN",
        "outputId": "35d4d78a-0af6-4d45-b61d-ce48faeafdb4"
      },
      "execution_count": 5,
      "outputs": [
        {
          "output_type": "execute_result",
          "data": {
            "text/plain": [
              "10"
            ]
          },
          "metadata": {},
          "execution_count": 5
        }
      ]
    },
    {
      "cell_type": "code",
      "source": [],
      "metadata": {
        "id": "ekYmndPpeeLi"
      },
      "execution_count": null,
      "outputs": []
    }
  ]
}